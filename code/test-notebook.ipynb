{
 "cells": [
  {
   "cell_type": "code",
   "execution_count": 1,
   "id": "3d8ae74d",
   "metadata": {},
   "outputs": [],
   "source": [
    "from pymongo import MongoClient\n",
    "from shapely.geometry import mapping, shape\n",
    "import geopandas as gpd"
   ]
  },
  {
   "cell_type": "markdown",
   "id": "c5a02298",
   "metadata": {},
   "source": [
    "Read data from the existing geojson files"
   ]
  },
  {
   "cell_type": "code",
   "execution_count": 2,
   "id": "59529e04",
   "metadata": {},
   "outputs": [
    {
     "data": {
      "text/html": [
       "<div>\n",
       "<style scoped>\n",
       "    .dataframe tbody tr th:only-of-type {\n",
       "        vertical-align: middle;\n",
       "    }\n",
       "\n",
       "    .dataframe tbody tr th {\n",
       "        vertical-align: top;\n",
       "    }\n",
       "\n",
       "    .dataframe thead th {\n",
       "        text-align: right;\n",
       "    }\n",
       "</style>\n",
       "<table border=\"1\" class=\"dataframe\">\n",
       "  <thead>\n",
       "    <tr style=\"text-align: right;\">\n",
       "      <th></th>\n",
       "      <th>id</th>\n",
       "      <th>mission</th>\n",
       "      <th>inst</th>\n",
       "      <th>type</th>\n",
       "      <th>Target_name</th>\n",
       "      <th>Footprints_cross_meridian</th>\n",
       "      <th>Map_scale</th>\n",
       "      <th>Center_latitude</th>\n",
       "      <th>Center_longitude</th>\n",
       "      <th>Easternmost_longitude</th>\n",
       "      <th>...</th>\n",
       "      <th>Phase_angle</th>\n",
       "      <th>Solar_longitude</th>\n",
       "      <th>Observation_time</th>\n",
       "      <th>Product_creation_time</th>\n",
       "      <th>UTC_start_time</th>\n",
       "      <th>UTC_stop_time</th>\n",
       "      <th>image_url</th>\n",
       "      <th>label_url</th>\n",
       "      <th>browse_url</th>\n",
       "      <th>geometry</th>\n",
       "    </tr>\n",
       "  </thead>\n",
       "  <tbody>\n",
       "    <tr>\n",
       "      <th>0</th>\n",
       "      <td>P16_007361_1800_XN_00S000W</td>\n",
       "      <td>MRO</td>\n",
       "      <td>CTX</td>\n",
       "      <td>EDR</td>\n",
       "      <td>MARS</td>\n",
       "      <td>True</td>\n",
       "      <td>5.34</td>\n",
       "      <td>0.0198</td>\n",
       "      <td>0</td>\n",
       "      <td>359.82</td>\n",
       "      <td>...</td>\n",
       "      <td>43.91</td>\n",
       "      <td>34.81</td>\n",
       "      <td>2008-02-21T00:58:55.696999</td>\n",
       "      <td>2008-07-17T04:09:49</td>\n",
       "      <td>2008-02-21T00:58:48.971001</td>\n",
       "      <td>2008-02-21T00:59:02.424000</td>\n",
       "      <td>https://pds-imaging.jpl.nasa.gov/data/mro/mars...</td>\n",
       "      <td>None</td>\n",
       "      <td>None</td>\n",
       "      <td>POLYGON ((0.18000 0.40520, 0.27000 -0.30640, -...</td>\n",
       "    </tr>\n",
       "  </tbody>\n",
       "</table>\n",
       "<p>1 rows × 25 columns</p>\n",
       "</div>"
      ],
      "text/plain": [
       "                           id mission inst type Target_name  \\\n",
       "0  P16_007361_1800_XN_00S000W     MRO  CTX  EDR        MARS   \n",
       "\n",
       "  Footprints_cross_meridian Map_scale Center_latitude Center_longitude  \\\n",
       "0                      True      5.34          0.0198                0   \n",
       "\n",
       "  Easternmost_longitude  ... Phase_angle Solar_longitude  \\\n",
       "0                359.82  ...       43.91           34.81   \n",
       "\n",
       "             Observation_time Product_creation_time  \\\n",
       "0  2008-02-21T00:58:55.696999   2008-07-17T04:09:49   \n",
       "\n",
       "               UTC_start_time               UTC_stop_time  \\\n",
       "0  2008-02-21T00:58:48.971001  2008-02-21T00:59:02.424000   \n",
       "\n",
       "                                           image_url label_url browse_url  \\\n",
       "0  https://pds-imaging.jpl.nasa.gov/data/mro/mars...      None       None   \n",
       "\n",
       "                                            geometry  \n",
       "0  POLYGON ((0.18000 0.40520, 0.27000 -0.30640, -...  \n",
       "\n",
       "[1 rows x 25 columns]"
      ]
     },
     "execution_count": 2,
     "metadata": {},
     "output_type": "execute_result"
    }
   ],
   "source": [
    "data = gpd.read_file('search_ctx.geojson')\n",
    "data.head()"
   ]
  },
  {
   "cell_type": "markdown",
   "id": "3496a29c",
   "metadata": {},
   "source": [
    "Renames id column to comply with MongoDB Rules"
   ]
  },
  {
   "cell_type": "code",
   "execution_count": 3,
   "id": "1cf2ee90",
   "metadata": {},
   "outputs": [
    {
     "data": {
      "text/html": [
       "<div>\n",
       "<style scoped>\n",
       "    .dataframe tbody tr th:only-of-type {\n",
       "        vertical-align: middle;\n",
       "    }\n",
       "\n",
       "    .dataframe tbody tr th {\n",
       "        vertical-align: top;\n",
       "    }\n",
       "\n",
       "    .dataframe thead th {\n",
       "        text-align: right;\n",
       "    }\n",
       "</style>\n",
       "<table border=\"1\" class=\"dataframe\">\n",
       "  <thead>\n",
       "    <tr style=\"text-align: right;\">\n",
       "      <th></th>\n",
       "      <th>_id</th>\n",
       "      <th>mission</th>\n",
       "      <th>inst</th>\n",
       "      <th>type</th>\n",
       "      <th>Target_name</th>\n",
       "      <th>Footprints_cross_meridian</th>\n",
       "      <th>Map_scale</th>\n",
       "      <th>Center_latitude</th>\n",
       "      <th>Center_longitude</th>\n",
       "      <th>Easternmost_longitude</th>\n",
       "      <th>...</th>\n",
       "      <th>Phase_angle</th>\n",
       "      <th>Solar_longitude</th>\n",
       "      <th>Observation_time</th>\n",
       "      <th>Product_creation_time</th>\n",
       "      <th>UTC_start_time</th>\n",
       "      <th>UTC_stop_time</th>\n",
       "      <th>image_url</th>\n",
       "      <th>label_url</th>\n",
       "      <th>browse_url</th>\n",
       "      <th>geometry</th>\n",
       "    </tr>\n",
       "  </thead>\n",
       "  <tbody>\n",
       "    <tr>\n",
       "      <th>0</th>\n",
       "      <td>P16_007361_1800_XN_00S000W</td>\n",
       "      <td>MRO</td>\n",
       "      <td>CTX</td>\n",
       "      <td>EDR</td>\n",
       "      <td>MARS</td>\n",
       "      <td>True</td>\n",
       "      <td>5.34</td>\n",
       "      <td>0.0198</td>\n",
       "      <td>0</td>\n",
       "      <td>359.82</td>\n",
       "      <td>...</td>\n",
       "      <td>43.91</td>\n",
       "      <td>34.81</td>\n",
       "      <td>2008-02-21T00:58:55.696999</td>\n",
       "      <td>2008-07-17T04:09:49</td>\n",
       "      <td>2008-02-21T00:58:48.971001</td>\n",
       "      <td>2008-02-21T00:59:02.424000</td>\n",
       "      <td>https://pds-imaging.jpl.nasa.gov/data/mro/mars...</td>\n",
       "      <td>None</td>\n",
       "      <td>None</td>\n",
       "      <td>POLYGON ((0.18000 0.40520, 0.27000 -0.30640, -...</td>\n",
       "    </tr>\n",
       "  </tbody>\n",
       "</table>\n",
       "<p>1 rows × 25 columns</p>\n",
       "</div>"
      ],
      "text/plain": [
       "                          _id mission inst type Target_name  \\\n",
       "0  P16_007361_1800_XN_00S000W     MRO  CTX  EDR        MARS   \n",
       "\n",
       "  Footprints_cross_meridian Map_scale Center_latitude Center_longitude  \\\n",
       "0                      True      5.34          0.0198                0   \n",
       "\n",
       "  Easternmost_longitude  ... Phase_angle Solar_longitude  \\\n",
       "0                359.82  ...       43.91           34.81   \n",
       "\n",
       "             Observation_time Product_creation_time  \\\n",
       "0  2008-02-21T00:58:55.696999   2008-07-17T04:09:49   \n",
       "\n",
       "               UTC_start_time               UTC_stop_time  \\\n",
       "0  2008-02-21T00:58:48.971001  2008-02-21T00:59:02.424000   \n",
       "\n",
       "                                           image_url label_url browse_url  \\\n",
       "0  https://pds-imaging.jpl.nasa.gov/data/mro/mars...      None       None   \n",
       "\n",
       "                                            geometry  \n",
       "0  POLYGON ((0.18000 0.40520, 0.27000 -0.30640, -...  \n",
       "\n",
       "[1 rows x 25 columns]"
      ]
     },
     "execution_count": 3,
     "metadata": {},
     "output_type": "execute_result"
    }
   ],
   "source": [
    "data = data.rename(columns={'id':'_id'})\n",
    "data.head()"
   ]
  },
  {
   "cell_type": "markdown",
   "id": "432cb33e",
   "metadata": {},
   "source": [
    "Maps geometry data to JSON objects"
   ]
  },
  {
   "cell_type": "code",
   "execution_count": 4,
   "id": "403096cf",
   "metadata": {},
   "outputs": [
    {
     "name": "stderr",
     "output_type": "stream",
     "text": [
      "/home/canyetismis/mongo_test/lib/python3.8/site-packages/geopandas-0.10.2-py3.8.egg/geopandas/geodataframe.py:1350: UserWarning: Geometry column does not contain geometry.\n",
      "  warnings.warn(\"Geometry column does not contain geometry.\")\n"
     ]
    },
    {
     "data": {
      "text/plain": [
       "0    {'type': 'Polygon', 'coordinates': (((0.18, 0....\n",
       "Name: geometry, dtype: object"
      ]
     },
     "execution_count": 4,
     "metadata": {},
     "output_type": "execute_result"
    }
   ],
   "source": [
    "data['geometry'] = data['geometry'].apply(lambda x:mapping(x))\n",
    "data['geometry']"
   ]
  },
  {
   "cell_type": "markdown",
   "id": "a192e170",
   "metadata": {},
   "source": [
    "initiates a new DB connection"
   ]
  },
  {
   "cell_type": "code",
   "execution_count": 5,
   "id": "4966131a",
   "metadata": {},
   "outputs": [],
   "source": [
    "client = MongoClient()\n",
    "db = client[\"mongo_test\"]\n",
    "collection = db[\"geodata\"]"
   ]
  },
  {
   "cell_type": "markdown",
   "id": "1265d278",
   "metadata": {},
   "source": [
    "Converts data to a dictionary and inserts records to the DB"
   ]
  },
  {
   "cell_type": "code",
   "execution_count": 6,
   "id": "0e26f891",
   "metadata": {},
   "outputs": [
    {
     "data": {
      "text/plain": [
       "<pymongo.results.InsertManyResult at 0x7fee59841380>"
      ]
     },
     "execution_count": 6,
     "metadata": {},
     "output_type": "execute_result"
    }
   ],
   "source": [
    "data = data.to_dict(orient='records')\n",
    "collection.insert_many(data)"
   ]
  },
  {
   "cell_type": "markdown",
   "id": "3dc77ef4",
   "metadata": {},
   "source": [
    "Runs a query within the database"
   ]
  },
  {
   "cell_type": "code",
   "execution_count": 7,
   "id": "78a14572",
   "metadata": {},
   "outputs": [
    {
     "data": {
      "text/plain": [
       "<pymongo.cursor.Cursor at 0x7fee5985e490>"
      ]
     },
     "execution_count": 7,
     "metadata": {},
     "output_type": "execute_result"
    }
   ],
   "source": [
    "coordinates = collection.find({})\n",
    "coordinates"
   ]
  },
  {
   "cell_type": "markdown",
   "id": "ca258153",
   "metadata": {},
   "source": [
    "Extracts the polygon from query"
   ]
  },
  {
   "cell_type": "code",
   "execution_count": 8,
   "id": "11588e01",
   "metadata": {},
   "outputs": [
    {
     "data": {
      "text/plain": [
       "{'type': 'Polygon',\n",
       " 'coordinates': [[[0.18, 0.4052],\n",
       "   [0.27, -0.3064],\n",
       "   [-0.18, -0.3657],\n",
       "   [-0.26, 0.3558],\n",
       "   [0.18, 0.4052]]]}"
      ]
     },
     "execution_count": 8,
     "metadata": {},
     "output_type": "execute_result"
    }
   ],
   "source": [
    "for x in coordinates:\n",
    "    poly = x['geometry']\n",
    "poly"
   ]
  },
  {
   "cell_type": "markdown",
   "id": "0a905eba",
   "metadata": {},
   "source": [
    "Reshapes the polygon"
   ]
  },
  {
   "cell_type": "code",
   "execution_count": 9,
   "id": "536068da",
   "metadata": {},
   "outputs": [
    {
     "data": {
      "image/svg+xml": [
       "<svg xmlns=\"http://www.w3.org/2000/svg\" xmlns:xlink=\"http://www.w3.org/1999/xlink\" width=\"100.0\" height=\"100.0\" viewBox=\"-0.290836 -0.396536 0.591672 0.832572\" preserveAspectRatio=\"xMinYMin meet\"><g transform=\"matrix(1,0,0,-1,0,0.03949999999999998)\"><path fill-rule=\"evenodd\" fill=\"#66cc99\" stroke=\"#555555\" stroke-width=\"0.01665144\" opacity=\"0.6\" d=\"M 0.18,0.4052 L 0.27,-0.3064 L -0.18,-0.3657 L -0.26,0.3558 L 0.18,0.4052 z\" /></g></svg>"
      ],
      "text/plain": [
       "<shapely.geometry.polygon.Polygon at 0x7fee5985e250>"
      ]
     },
     "execution_count": 9,
     "metadata": {},
     "output_type": "execute_result"
    }
   ],
   "source": [
    "shape(poly)"
   ]
  }
 ],
 "metadata": {
  "kernelspec": {
   "display_name": "Python 3 (ipykernel)",
   "language": "python",
   "name": "python3"
  },
  "language_info": {
   "codemirror_mode": {
    "name": "ipython",
    "version": 3
   },
   "file_extension": ".py",
   "mimetype": "text/x-python",
   "name": "python",
   "nbconvert_exporter": "python",
   "pygments_lexer": "ipython3",
   "version": "3.8.10"
  }
 },
 "nbformat": 4,
 "nbformat_minor": 5
}

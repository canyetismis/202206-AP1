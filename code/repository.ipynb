{
 "cells": [
  {
   "cell_type": "code",
   "execution_count": 1,
   "id": "4964cd43",
   "metadata": {},
   "outputs": [],
   "source": [
    "from mongodb.content_provider import ContentProvider\n",
    "import geopandas as gpd\n",
    "from shapely.geometry import mapping\n",
    "import json"
   ]
  },
  {
   "cell_type": "markdown",
   "id": "e5a8a125",
   "metadata": {},
   "source": [
    "# Initialise a new ContentProvider object"
   ]
  },
  {
   "cell_type": "code",
   "execution_count": 2,
   "id": "a940f8de",
   "metadata": {
    "scrolled": true
   },
   "outputs": [],
   "source": [
    "contentProvider = ContentProvider(\"mongo_test\", \"geodata\")"
   ]
  },
  {
   "cell_type": "markdown",
   "id": "a260abea",
   "metadata": {},
   "source": [
    "# Read and Insert Data using ContentProvider"
   ]
  },
  {
   "cell_type": "code",
   "execution_count": 3,
   "id": "06eefaa3",
   "metadata": {},
   "outputs": [
    {
     "name": "stderr",
     "output_type": "stream",
     "text": [
      "/home/canyetismis/mongo_test/lib/python3.8/site-packages/geopandas-0.10.2-py3.8.egg/geopandas/geodataframe.py:1350: UserWarning: Geometry column does not contain geometry.\n",
      "  warnings.warn(\"Geometry column does not contain geometry.\")\n",
      "/home/canyetismis/mongo_test/lib/python3.8/site-packages/geopandas-0.10.2-py3.8.egg/geopandas/geodataframe.py:1350: UserWarning: Geometry column does not contain geometry.\n",
      "  warnings.warn(\"Geometry column does not contain geometry.\")\n"
     ]
    }
   ],
   "source": [
    "contentProvider.delete_data()\n",
    "\n",
    "data = gpd.read_file('search_ctx.geojson')\n",
    "data = data.rename(columns={'id':'_id'})\n",
    "data['geometry'] = data['geometry'].apply(lambda x:mapping(x))\n",
    "contentProvider.insert_data(data)\n",
    "\n",
    "data = gpd.read_file('search_hirise.geojson')\n",
    "data = data.rename(columns={'id':'_id'})\n",
    "data['geometry'] = data['geometry'].apply(lambda x:mapping(x))\n",
    "contentProvider.insert_data(data)"
   ]
  },
  {
   "cell_type": "markdown",
   "id": "e838f8ad",
   "metadata": {},
   "source": [
    "# Query All Data"
   ]
  },
  {
   "cell_type": "code",
   "execution_count": 4,
   "id": "eaa293ac",
   "metadata": {},
   "outputs": [
    {
     "data": {
      "text/html": [
       "<div>\n",
       "<style scoped>\n",
       "    .dataframe tbody tr th:only-of-type {\n",
       "        vertical-align: middle;\n",
       "    }\n",
       "\n",
       "    .dataframe tbody tr th {\n",
       "        vertical-align: top;\n",
       "    }\n",
       "\n",
       "    .dataframe thead th {\n",
       "        text-align: right;\n",
       "    }\n",
       "</style>\n",
       "<table border=\"1\" class=\"dataframe\">\n",
       "  <thead>\n",
       "    <tr style=\"text-align: right;\">\n",
       "      <th></th>\n",
       "      <th>_id</th>\n",
       "      <th>mission</th>\n",
       "      <th>inst</th>\n",
       "      <th>type</th>\n",
       "      <th>Target_name</th>\n",
       "      <th>Footprints_cross_meridian</th>\n",
       "      <th>Map_scale</th>\n",
       "      <th>Center_latitude</th>\n",
       "      <th>Center_longitude</th>\n",
       "      <th>Easternmost_longitude</th>\n",
       "      <th>...</th>\n",
       "      <th>Phase_angle</th>\n",
       "      <th>Solar_longitude</th>\n",
       "      <th>Observation_time</th>\n",
       "      <th>Product_creation_time</th>\n",
       "      <th>UTC_start_time</th>\n",
       "      <th>UTC_stop_time</th>\n",
       "      <th>image_url</th>\n",
       "      <th>label_url</th>\n",
       "      <th>browse_url</th>\n",
       "      <th>geometry</th>\n",
       "    </tr>\n",
       "  </thead>\n",
       "  <tbody>\n",
       "    <tr>\n",
       "      <th>0</th>\n",
       "      <td>P16_007361_1800_XN_00S000W</td>\n",
       "      <td>MRO</td>\n",
       "      <td>CTX</td>\n",
       "      <td>EDR</td>\n",
       "      <td>MARS</td>\n",
       "      <td>True</td>\n",
       "      <td>5.34</td>\n",
       "      <td>0.0198</td>\n",
       "      <td>0</td>\n",
       "      <td>359.82</td>\n",
       "      <td>...</td>\n",
       "      <td>43.91</td>\n",
       "      <td>34.81</td>\n",
       "      <td>2008-02-21T00:58:55.696999</td>\n",
       "      <td>2008-07-17T04:09:49</td>\n",
       "      <td>2008-02-21T00:58:48.971001</td>\n",
       "      <td>2008-02-21T00:59:02.424000</td>\n",
       "      <td>https://pds-imaging.jpl.nasa.gov/data/mro/mars...</td>\n",
       "      <td>None</td>\n",
       "      <td>None</td>\n",
       "      <td>{'type': 'Polygon', 'coordinates': [[[0.18, 0....</td>\n",
       "    </tr>\n",
       "    <tr>\n",
       "      <th>1</th>\n",
       "      <td>PSP_007361_1800_RED</td>\n",
       "      <td>MRO</td>\n",
       "      <td>HIRISE</td>\n",
       "      <td>RDRV11</td>\n",
       "      <td>MARS</td>\n",
       "      <td>True</td>\n",
       "      <td>0.5</td>\n",
       "      <td>-0.0145</td>\n",
       "      <td>0.0069</td>\n",
       "      <td>359.989</td>\n",
       "      <td>...</td>\n",
       "      <td>43.953009</td>\n",
       "      <td>34.80857</td>\n",
       "      <td>2008-02-21T00:58:55.081001</td>\n",
       "      <td>2010-04-07T02:11:12</td>\n",
       "      <td>2008-02-21T00:58:50.834999</td>\n",
       "      <td>2008-02-21T00:58:59.327999</td>\n",
       "      <td>https://hirise.lpl.arizona.edu/PDS/RDR/PSP/ORB...</td>\n",
       "      <td>https://hirise.lpl.arizona.edu/PDS/RDR/PSP/ORB...</td>\n",
       "      <td>https://hirise.lpl.arizona.edu/PDS/EXTRAS/RDR/...</td>\n",
       "      <td>{'type': 'Polygon', 'coordinates': [[[0.0797, ...</td>\n",
       "    </tr>\n",
       "    <tr>\n",
       "      <th>2</th>\n",
       "      <td>ESP_023817_1800_RED</td>\n",
       "      <td>MRO</td>\n",
       "      <td>HIRISE</td>\n",
       "      <td>RDRV11</td>\n",
       "      <td>MARS</td>\n",
       "      <td>False</td>\n",
       "      <td>0.5</td>\n",
       "      <td>0.1009</td>\n",
       "      <td>359.9205</td>\n",
       "      <td>359.978</td>\n",
       "      <td>...</td>\n",
       "      <td>37.941905</td>\n",
       "      <td>350.748489</td>\n",
       "      <td>2011-08-26T08:15:15.659000</td>\n",
       "      <td>2011-09-01T02:08:15</td>\n",
       "      <td>2011-08-26T08:15:13.722000</td>\n",
       "      <td>2011-08-26T08:15:17.597000</td>\n",
       "      <td>https://hirise.lpl.arizona.edu/PDS/RDR/ESP/ORB...</td>\n",
       "      <td>https://hirise.lpl.arizona.edu/PDS/RDR/ESP/ORB...</td>\n",
       "      <td>https://hirise.lpl.arizona.edu/PDS/EXTRAS/RDR/...</td>\n",
       "      <td>{'type': 'Polygon', 'coordinates': [[[-0.022, ...</td>\n",
       "    </tr>\n",
       "    <tr>\n",
       "      <th>3</th>\n",
       "      <td>ESP_041909_1800_RED</td>\n",
       "      <td>MRO</td>\n",
       "      <td>HIRISE</td>\n",
       "      <td>RDRV11</td>\n",
       "      <td>MARS</td>\n",
       "      <td>True</td>\n",
       "      <td>0.5</td>\n",
       "      <td>-0.0033</td>\n",
       "      <td>0.0006</td>\n",
       "      <td>359.97</td>\n",
       "      <td>...</td>\n",
       "      <td>57.559947</td>\n",
       "      <td>8.638808</td>\n",
       "      <td>2015-07-06T01:30:48.244999</td>\n",
       "      <td>2015-08-13T17:12:54</td>\n",
       "      <td>2015-07-06T01:30:45.488998</td>\n",
       "      <td>2015-07-06T01:30:51.001999</td>\n",
       "      <td>https://hirise.lpl.arizona.edu/PDS/RDR/ESP/ORB...</td>\n",
       "      <td>https://hirise.lpl.arizona.edu/PDS/RDR/ESP/ORB...</td>\n",
       "      <td>https://hirise.lpl.arizona.edu/PDS/EXTRAS/RDR/...</td>\n",
       "      <td>{'type': 'Polygon', 'coordinates': [[[0.0646, ...</td>\n",
       "    </tr>\n",
       "  </tbody>\n",
       "</table>\n",
       "<p>4 rows × 25 columns</p>\n",
       "</div>"
      ],
      "text/plain": [
       "                          _id mission    inst    type Target_name  \\\n",
       "0  P16_007361_1800_XN_00S000W     MRO     CTX     EDR        MARS   \n",
       "1         PSP_007361_1800_RED     MRO  HIRISE  RDRV11        MARS   \n",
       "2         ESP_023817_1800_RED     MRO  HIRISE  RDRV11        MARS   \n",
       "3         ESP_041909_1800_RED     MRO  HIRISE  RDRV11        MARS   \n",
       "\n",
       "  Footprints_cross_meridian Map_scale Center_latitude Center_longitude  \\\n",
       "0                      True      5.34          0.0198                0   \n",
       "1                      True       0.5         -0.0145           0.0069   \n",
       "2                     False       0.5          0.1009         359.9205   \n",
       "3                      True       0.5         -0.0033           0.0006   \n",
       "\n",
       "  Easternmost_longitude  ... Phase_angle Solar_longitude  \\\n",
       "0                359.82  ...       43.91           34.81   \n",
       "1               359.989  ...   43.953009        34.80857   \n",
       "2               359.978  ...   37.941905      350.748489   \n",
       "3                359.97  ...   57.559947        8.638808   \n",
       "\n",
       "             Observation_time Product_creation_time  \\\n",
       "0  2008-02-21T00:58:55.696999   2008-07-17T04:09:49   \n",
       "1  2008-02-21T00:58:55.081001   2010-04-07T02:11:12   \n",
       "2  2011-08-26T08:15:15.659000   2011-09-01T02:08:15   \n",
       "3  2015-07-06T01:30:48.244999   2015-08-13T17:12:54   \n",
       "\n",
       "               UTC_start_time               UTC_stop_time  \\\n",
       "0  2008-02-21T00:58:48.971001  2008-02-21T00:59:02.424000   \n",
       "1  2008-02-21T00:58:50.834999  2008-02-21T00:58:59.327999   \n",
       "2  2011-08-26T08:15:13.722000  2011-08-26T08:15:17.597000   \n",
       "3  2015-07-06T01:30:45.488998  2015-07-06T01:30:51.001999   \n",
       "\n",
       "                                           image_url  \\\n",
       "0  https://pds-imaging.jpl.nasa.gov/data/mro/mars...   \n",
       "1  https://hirise.lpl.arizona.edu/PDS/RDR/PSP/ORB...   \n",
       "2  https://hirise.lpl.arizona.edu/PDS/RDR/ESP/ORB...   \n",
       "3  https://hirise.lpl.arizona.edu/PDS/RDR/ESP/ORB...   \n",
       "\n",
       "                                           label_url  \\\n",
       "0                                               None   \n",
       "1  https://hirise.lpl.arizona.edu/PDS/RDR/PSP/ORB...   \n",
       "2  https://hirise.lpl.arizona.edu/PDS/RDR/ESP/ORB...   \n",
       "3  https://hirise.lpl.arizona.edu/PDS/RDR/ESP/ORB...   \n",
       "\n",
       "                                          browse_url  \\\n",
       "0                                               None   \n",
       "1  https://hirise.lpl.arizona.edu/PDS/EXTRAS/RDR/...   \n",
       "2  https://hirise.lpl.arizona.edu/PDS/EXTRAS/RDR/...   \n",
       "3  https://hirise.lpl.arizona.edu/PDS/EXTRAS/RDR/...   \n",
       "\n",
       "                                            geometry  \n",
       "0  {'type': 'Polygon', 'coordinates': [[[0.18, 0....  \n",
       "1  {'type': 'Polygon', 'coordinates': [[[0.0797, ...  \n",
       "2  {'type': 'Polygon', 'coordinates': [[[-0.022, ...  \n",
       "3  {'type': 'Polygon', 'coordinates': [[[0.0646, ...  \n",
       "\n",
       "[4 rows x 25 columns]"
      ]
     },
     "execution_count": 4,
     "metadata": {},
     "output_type": "execute_result"
    }
   ],
   "source": [
    "query = contentProvider.query_data()\n",
    "query"
   ]
  },
  {
   "cell_type": "markdown",
   "id": "54c8094c",
   "metadata": {},
   "source": [
    "# Make Spacial Query"
   ]
  },
  {
   "cell_type": "code",
   "execution_count": 5,
   "id": "4a2c4df0",
   "metadata": {},
   "outputs": [
    {
     "data": {
      "text/html": [
       "<div>\n",
       "<style scoped>\n",
       "    .dataframe tbody tr th:only-of-type {\n",
       "        vertical-align: middle;\n",
       "    }\n",
       "\n",
       "    .dataframe tbody tr th {\n",
       "        vertical-align: top;\n",
       "    }\n",
       "\n",
       "    .dataframe thead th {\n",
       "        text-align: right;\n",
       "    }\n",
       "</style>\n",
       "<table border=\"1\" class=\"dataframe\">\n",
       "  <thead>\n",
       "    <tr style=\"text-align: right;\">\n",
       "      <th></th>\n",
       "      <th>_id</th>\n",
       "      <th>mission</th>\n",
       "      <th>inst</th>\n",
       "      <th>type</th>\n",
       "      <th>Target_name</th>\n",
       "      <th>Footprints_cross_meridian</th>\n",
       "      <th>Map_scale</th>\n",
       "      <th>Center_latitude</th>\n",
       "      <th>Center_longitude</th>\n",
       "      <th>Easternmost_longitude</th>\n",
       "      <th>...</th>\n",
       "      <th>Phase_angle</th>\n",
       "      <th>Solar_longitude</th>\n",
       "      <th>Observation_time</th>\n",
       "      <th>Product_creation_time</th>\n",
       "      <th>UTC_start_time</th>\n",
       "      <th>UTC_stop_time</th>\n",
       "      <th>image_url</th>\n",
       "      <th>label_url</th>\n",
       "      <th>browse_url</th>\n",
       "      <th>geometry</th>\n",
       "    </tr>\n",
       "  </thead>\n",
       "  <tbody>\n",
       "    <tr>\n",
       "      <th>0</th>\n",
       "      <td>P16_007361_1800_XN_00S000W</td>\n",
       "      <td>MRO</td>\n",
       "      <td>CTX</td>\n",
       "      <td>EDR</td>\n",
       "      <td>MARS</td>\n",
       "      <td>True</td>\n",
       "      <td>5.34</td>\n",
       "      <td>0.0198</td>\n",
       "      <td>0</td>\n",
       "      <td>359.82</td>\n",
       "      <td>...</td>\n",
       "      <td>43.91</td>\n",
       "      <td>34.81</td>\n",
       "      <td>2008-02-21T00:58:55.696999</td>\n",
       "      <td>2008-07-17T04:09:49</td>\n",
       "      <td>2008-02-21T00:58:48.971001</td>\n",
       "      <td>2008-02-21T00:59:02.424000</td>\n",
       "      <td>https://pds-imaging.jpl.nasa.gov/data/mro/mars...</td>\n",
       "      <td>None</td>\n",
       "      <td>None</td>\n",
       "      <td>{'type': 'Polygon', 'coordinates': [[[0.18, 0....</td>\n",
       "    </tr>\n",
       "  </tbody>\n",
       "</table>\n",
       "<p>1 rows × 25 columns</p>\n",
       "</div>"
      ],
      "text/plain": [
       "                          _id mission inst type Target_name  \\\n",
       "0  P16_007361_1800_XN_00S000W     MRO  CTX  EDR        MARS   \n",
       "\n",
       "  Footprints_cross_meridian Map_scale Center_latitude Center_longitude  \\\n",
       "0                      True      5.34          0.0198                0   \n",
       "\n",
       "  Easternmost_longitude  ... Phase_angle Solar_longitude  \\\n",
       "0                359.82  ...       43.91           34.81   \n",
       "\n",
       "             Observation_time Product_creation_time  \\\n",
       "0  2008-02-21T00:58:55.696999   2008-07-17T04:09:49   \n",
       "\n",
       "               UTC_start_time               UTC_stop_time  \\\n",
       "0  2008-02-21T00:58:48.971001  2008-02-21T00:59:02.424000   \n",
       "\n",
       "                                           image_url label_url browse_url  \\\n",
       "0  https://pds-imaging.jpl.nasa.gov/data/mro/mars...      None       None   \n",
       "\n",
       "                                            geometry  \n",
       "0  {'type': 'Polygon', 'coordinates': [[[0.18, 0....  \n",
       "\n",
       "[1 rows x 25 columns]"
      ]
     },
     "execution_count": 5,
     "metadata": {},
     "output_type": "execute_result"
    }
   ],
   "source": [
    "# Query CTX data only\n",
    "query = {\"_id\": \"P16_007361_1800_XN_00S000W\"}\n",
    "query = contentProvider.query_data(query)\n",
    "query"
   ]
  },
  {
   "cell_type": "markdown",
   "id": "2267db79",
   "metadata": {},
   "source": [
    "# Convert Queries to JSON"
   ]
  },
  {
   "cell_type": "code",
   "execution_count": 10,
   "id": "2e78a351",
   "metadata": {},
   "outputs": [
    {
     "ename": "AttributeError",
     "evalue": "'Series' object has no attribute 'crs'",
     "output_type": "error",
     "traceback": [
      "\u001b[0;31m---------------------------------------------------------------------------\u001b[0m",
      "\u001b[0;31mAttributeError\u001b[0m                            Traceback (most recent call last)",
      "Input \u001b[0;32mIn [10]\u001b[0m, in \u001b[0;36m<cell line: 2>\u001b[0;34m()\u001b[0m\n\u001b[1;32m      1\u001b[0m query \u001b[38;5;241m=\u001b[39m contentProvider\u001b[38;5;241m.\u001b[39mquery_data()\n\u001b[0;32m----> 2\u001b[0m \u001b[43mquery\u001b[49m\u001b[38;5;241;43m.\u001b[39;49m\u001b[43mplot\u001b[49m\u001b[43m(\u001b[49m\u001b[43m)\u001b[49m\n",
      "File \u001b[0;32m~/mongo_test/lib/python3.8/site-packages/geopandas-0.10.2-py3.8.egg/geopandas/plotting.py:950\u001b[0m, in \u001b[0;36mGeoplotAccessor.__call__\u001b[0;34m(self, *args, **kwargs)\u001b[0m\n\u001b[1;32m    948\u001b[0m kind \u001b[38;5;241m=\u001b[39m kwargs\u001b[38;5;241m.\u001b[39mpop(\u001b[38;5;124m\"\u001b[39m\u001b[38;5;124mkind\u001b[39m\u001b[38;5;124m\"\u001b[39m, \u001b[38;5;124m\"\u001b[39m\u001b[38;5;124mgeo\u001b[39m\u001b[38;5;124m\"\u001b[39m)\n\u001b[1;32m    949\u001b[0m \u001b[38;5;28;01mif\u001b[39;00m kind \u001b[38;5;241m==\u001b[39m \u001b[38;5;124m\"\u001b[39m\u001b[38;5;124mgeo\u001b[39m\u001b[38;5;124m\"\u001b[39m:\n\u001b[0;32m--> 950\u001b[0m     \u001b[38;5;28;01mreturn\u001b[39;00m \u001b[43mplot_dataframe\u001b[49m\u001b[43m(\u001b[49m\u001b[43mdata\u001b[49m\u001b[43m,\u001b[49m\u001b[43m \u001b[49m\u001b[38;5;241;43m*\u001b[39;49m\u001b[43margs\u001b[49m\u001b[43m,\u001b[49m\u001b[43m \u001b[49m\u001b[38;5;241;43m*\u001b[39;49m\u001b[38;5;241;43m*\u001b[39;49m\u001b[43mkwargs\u001b[49m\u001b[43m)\u001b[49m\n\u001b[1;32m    951\u001b[0m \u001b[38;5;28;01mif\u001b[39;00m kind \u001b[38;5;129;01min\u001b[39;00m \u001b[38;5;28mself\u001b[39m\u001b[38;5;241m.\u001b[39m_pandas_kinds:\n\u001b[1;32m    952\u001b[0m     \u001b[38;5;66;03m# Access pandas plots\u001b[39;00m\n\u001b[1;32m    953\u001b[0m     \u001b[38;5;28;01mreturn\u001b[39;00m PlotAccessor(data)(kind\u001b[38;5;241m=\u001b[39mkind, \u001b[38;5;241m*\u001b[39m\u001b[38;5;241m*\u001b[39mkwargs)\n",
      "File \u001b[0;32m~/mongo_test/lib/python3.8/site-packages/geopandas-0.10.2-py3.8.egg/geopandas/plotting.py:692\u001b[0m, in \u001b[0;36mplot_dataframe\u001b[0;34m(df, column, cmap, color, ax, cax, categorical, legend, scheme, k, vmin, vmax, markersize, figsize, legend_kwds, categories, classification_kwds, missing_kwds, aspect, **style_kwds)\u001b[0m\n\u001b[1;32m    689\u001b[0m     markersize \u001b[38;5;241m=\u001b[39m df[markersize]\u001b[38;5;241m.\u001b[39mvalues\n\u001b[1;32m    691\u001b[0m \u001b[38;5;28;01mif\u001b[39;00m column \u001b[38;5;129;01mis\u001b[39;00m \u001b[38;5;28;01mNone\u001b[39;00m:\n\u001b[0;32m--> 692\u001b[0m     \u001b[38;5;28;01mreturn\u001b[39;00m \u001b[43mplot_series\u001b[49m\u001b[43m(\u001b[49m\n\u001b[1;32m    693\u001b[0m \u001b[43m        \u001b[49m\u001b[43mdf\u001b[49m\u001b[38;5;241;43m.\u001b[39;49m\u001b[43mgeometry\u001b[49m\u001b[43m,\u001b[49m\n\u001b[1;32m    694\u001b[0m \u001b[43m        \u001b[49m\u001b[43mcmap\u001b[49m\u001b[38;5;241;43m=\u001b[39;49m\u001b[43mcmap\u001b[49m\u001b[43m,\u001b[49m\n\u001b[1;32m    695\u001b[0m \u001b[43m        \u001b[49m\u001b[43mcolor\u001b[49m\u001b[38;5;241;43m=\u001b[39;49m\u001b[43mcolor\u001b[49m\u001b[43m,\u001b[49m\n\u001b[1;32m    696\u001b[0m \u001b[43m        \u001b[49m\u001b[43max\u001b[49m\u001b[38;5;241;43m=\u001b[39;49m\u001b[43max\u001b[49m\u001b[43m,\u001b[49m\n\u001b[1;32m    697\u001b[0m \u001b[43m        \u001b[49m\u001b[43mfigsize\u001b[49m\u001b[38;5;241;43m=\u001b[39;49m\u001b[43mfigsize\u001b[49m\u001b[43m,\u001b[49m\n\u001b[1;32m    698\u001b[0m \u001b[43m        \u001b[49m\u001b[43mmarkersize\u001b[49m\u001b[38;5;241;43m=\u001b[39;49m\u001b[43mmarkersize\u001b[49m\u001b[43m,\u001b[49m\n\u001b[1;32m    699\u001b[0m \u001b[43m        \u001b[49m\u001b[43maspect\u001b[49m\u001b[38;5;241;43m=\u001b[39;49m\u001b[43maspect\u001b[49m\u001b[43m,\u001b[49m\n\u001b[1;32m    700\u001b[0m \u001b[43m        \u001b[49m\u001b[38;5;241;43m*\u001b[39;49m\u001b[38;5;241;43m*\u001b[39;49m\u001b[43mstyle_kwds\u001b[49m\u001b[43m,\u001b[49m\n\u001b[1;32m    701\u001b[0m \u001b[43m    \u001b[49m\u001b[43m)\u001b[49m\n\u001b[1;32m    703\u001b[0m \u001b[38;5;66;03m# To accept pd.Series and np.arrays as column\u001b[39;00m\n\u001b[1;32m    704\u001b[0m \u001b[38;5;28;01mif\u001b[39;00m \u001b[38;5;28misinstance\u001b[39m(column, (np\u001b[38;5;241m.\u001b[39mndarray, pd\u001b[38;5;241m.\u001b[39mSeries)):\n",
      "File \u001b[0;32m~/mongo_test/lib/python3.8/site-packages/geopandas-0.10.2-py3.8.egg/geopandas/plotting.py:390\u001b[0m, in \u001b[0;36mplot_series\u001b[0;34m(s, cmap, color, ax, figsize, aspect, **style_kwds)\u001b[0m\n\u001b[1;32m    387\u001b[0m     fig, ax \u001b[38;5;241m=\u001b[39m plt\u001b[38;5;241m.\u001b[39msubplots(figsize\u001b[38;5;241m=\u001b[39mfigsize)\n\u001b[1;32m    389\u001b[0m \u001b[38;5;28;01mif\u001b[39;00m aspect \u001b[38;5;241m==\u001b[39m \u001b[38;5;124m\"\u001b[39m\u001b[38;5;124mauto\u001b[39m\u001b[38;5;124m\"\u001b[39m:\n\u001b[0;32m--> 390\u001b[0m     \u001b[38;5;28;01mif\u001b[39;00m \u001b[43ms\u001b[49m\u001b[38;5;241;43m.\u001b[39;49m\u001b[43mcrs\u001b[49m \u001b[38;5;129;01mand\u001b[39;00m s\u001b[38;5;241m.\u001b[39mcrs\u001b[38;5;241m.\u001b[39mis_geographic:\n\u001b[1;32m    391\u001b[0m         bounds \u001b[38;5;241m=\u001b[39m s\u001b[38;5;241m.\u001b[39mtotal_bounds\n\u001b[1;32m    392\u001b[0m         y_coord \u001b[38;5;241m=\u001b[39m np\u001b[38;5;241m.\u001b[39mmean([bounds[\u001b[38;5;241m1\u001b[39m], bounds[\u001b[38;5;241m3\u001b[39m]])\n",
      "File \u001b[0;32m~/mongo_test/lib/python3.8/site-packages/pandas-1.4.1-py3.8-linux-x86_64.egg/pandas/core/generic.py:5583\u001b[0m, in \u001b[0;36mNDFrame.__getattr__\u001b[0;34m(self, name)\u001b[0m\n\u001b[1;32m   5576\u001b[0m \u001b[38;5;28;01mif\u001b[39;00m (\n\u001b[1;32m   5577\u001b[0m     name \u001b[38;5;129;01mnot\u001b[39;00m \u001b[38;5;129;01min\u001b[39;00m \u001b[38;5;28mself\u001b[39m\u001b[38;5;241m.\u001b[39m_internal_names_set\n\u001b[1;32m   5578\u001b[0m     \u001b[38;5;129;01mand\u001b[39;00m name \u001b[38;5;129;01mnot\u001b[39;00m \u001b[38;5;129;01min\u001b[39;00m \u001b[38;5;28mself\u001b[39m\u001b[38;5;241m.\u001b[39m_metadata\n\u001b[1;32m   5579\u001b[0m     \u001b[38;5;129;01mand\u001b[39;00m name \u001b[38;5;129;01mnot\u001b[39;00m \u001b[38;5;129;01min\u001b[39;00m \u001b[38;5;28mself\u001b[39m\u001b[38;5;241m.\u001b[39m_accessors\n\u001b[1;32m   5580\u001b[0m     \u001b[38;5;129;01mand\u001b[39;00m \u001b[38;5;28mself\u001b[39m\u001b[38;5;241m.\u001b[39m_info_axis\u001b[38;5;241m.\u001b[39m_can_hold_identifiers_and_holds_name(name)\n\u001b[1;32m   5581\u001b[0m ):\n\u001b[1;32m   5582\u001b[0m     \u001b[38;5;28;01mreturn\u001b[39;00m \u001b[38;5;28mself\u001b[39m[name]\n\u001b[0;32m-> 5583\u001b[0m \u001b[38;5;28;01mreturn\u001b[39;00m \u001b[38;5;28;43mobject\u001b[39;49m\u001b[38;5;241;43m.\u001b[39;49m\u001b[38;5;21;43m__getattribute__\u001b[39;49m\u001b[43m(\u001b[49m\u001b[38;5;28;43mself\u001b[39;49m\u001b[43m,\u001b[49m\u001b[43m \u001b[49m\u001b[43mname\u001b[49m\u001b[43m)\u001b[49m\n",
      "\u001b[0;31mAttributeError\u001b[0m: 'Series' object has no attribute 'crs'"
     ]
    },
    {
     "data": {
      "image/png": "[encoded data removed]",
      "text/plain": [
       "<Figure size 432x288 with 1 Axes>"
      ]
     },
     "metadata": {
      "needs_background": "light"
     },
     "output_type": "display_data"
    }
   ],
   "source": [
    "query = contentProvider.query_data()\n",
    "query.plot()\n",
    "#response = query.to_json()\n",
    "#response = json.dumps(response, indent = 2)\n",
    "#print(response)"
   ]
  },
  {
   "cell_type": "markdown",
   "id": "eed3d2b1",
   "metadata": {},
   "source": [
    "# Terminate ContentProvider and Database Connection"
   ]
  },
  {
   "cell_type": "code",
   "execution_count": 9,
   "id": "2a76b848",
   "metadata": {},
   "outputs": [
    {
     "name": "stdout",
     "output_type": "stream",
     "text": [
      "Collecting matplotlib\n",
      "  Downloading matplotlib-3.5.1-cp38-cp38-manylinux_2_5_x86_64.manylinux1_x86_64.whl (11.3 MB)\n",
      "\u001b[K     |████████████████████████████████| 11.3 MB 1.8 MB/s eta 0:00:01    |█████▎                          | 1.9 MB 2.4 MB/s eta 0:00:04     |██████████▏                     | 3.6 MB 2.4 MB/s eta 0:00:04     |█████████████████████████████▏  | 10.3 MB 1.8 MB/s eta 0:00:01\n",
      "\u001b[?25hCollecting kiwisolver>=1.0.1\n",
      "  Downloading kiwisolver-1.4.2-cp38-cp38-manylinux_2_5_x86_64.manylinux1_x86_64.whl (1.2 MB)\n",
      "\u001b[K     |████████████████████████████████| 1.2 MB 12.3 MB/s eta 0:00:01\n",
      "\u001b[?25hRequirement already satisfied: python-dateutil>=2.7 in /home/canyetismis/mongo_test/lib/python3.8/site-packages/python_dateutil-2.8.2-py3.8.egg (from matplotlib) (2.8.2)\n",
      "Requirement already satisfied: packaging>=20.0 in /home/canyetismis/mongo_test/lib/python3.8/site-packages (from matplotlib) (21.3)\n",
      "Collecting fonttools>=4.22.0\n",
      "  Downloading fonttools-4.31.2-py3-none-any.whl (899 kB)\n",
      "\u001b[K     |████████████████████████████████| 899 kB 12.4 MB/s eta 0:00:01     |█████████████████████████▉      | 727 kB 12.4 MB/s eta 0:00:01\n",
      "\u001b[?25hCollecting cycler>=0.10\n",
      "  Downloading cycler-0.11.0-py3-none-any.whl (6.4 kB)\n",
      "Collecting pillow>=6.2.0\n",
      "  Downloading Pillow-9.1.0-cp38-cp38-manylinux_2_17_x86_64.manylinux2014_x86_64.whl (4.3 MB)\n",
      "\u001b[K     |████████████████████████████████| 4.3 MB 12.2 MB/s eta 0:00:01     |███████████████████████████     | 3.7 MB 12.2 MB/s eta 0:00:01\n",
      "\u001b[?25hRequirement already satisfied: pyparsing>=2.2.1 in /home/canyetismis/mongo_test/lib/python3.8/site-packages (from matplotlib) (3.0.7)\n",
      "Requirement already satisfied: numpy>=1.17 in /home/canyetismis/mongo_test/lib/python3.8/site-packages/numpy-1.22.3-py3.8-linux-x86_64.egg (from matplotlib) (1.22.3)\n",
      "Requirement already satisfied: six>=1.5 in /home/canyetismis/mongo_test/lib/python3.8/site-packages/six-1.16.0-py3.8.egg (from python-dateutil>=2.7->matplotlib) (1.16.0)\n",
      "Installing collected packages: kiwisolver, fonttools, cycler, pillow, matplotlib\n",
      "Successfully installed cycler-0.11.0 fonttools-4.31.2 kiwisolver-1.4.2 matplotlib-3.5.1 pillow-9.1.0\n"
     ]
    }
   ],
   "source": [
    "#del contentProvider\n",
    "!pip3 install matplotlib"
   ]
  },
  {
   "cell_type": "code",
   "execution_count": null,
   "id": "2f914c6d",
   "metadata": {},
   "outputs": [],
   "source": []
  }
 ],
 "metadata": {
  "kernelspec": {
   "display_name": "Python 3 (ipykernel)",
   "language": "python",
   "name": "python3"
  },
  "language_info": {
   "codemirror_mode": {
    "name": "ipython",
    "version": 3
   },
   "file_extension": ".py",
   "mimetype": "text/x-python",
   "name": "python",
   "nbconvert_exporter": "python",
   "pygments_lexer": "ipython3",
   "version": "3.8.10"
  }
 },
 "nbformat": 4,
 "nbformat_minor": 5
}
